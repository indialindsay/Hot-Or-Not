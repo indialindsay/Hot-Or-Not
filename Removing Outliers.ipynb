{
 "cells": [
  {
   "cell_type": "code",
   "execution_count": 1,
   "metadata": {},
   "outputs": [
    {
     "name": "stdout",
     "output_type": "stream",
     "text": [
      "Populating the interactive namespace from numpy and matplotlib\n"
     ]
    }
   ],
   "source": [
    "from pandas import Series, DataFrame\n",
    "import numpy as np\n",
    "import pandas as pd\n",
    "import matplotlib.pyplot as plt\n",
    "%pylab inline\n",
    "\n",
    "random.seed(123)\n",
    "\n",
    "df = pd.read_csv('spotify_2000.csv')"
   ]
  },
  {
   "cell_type": "markdown",
   "metadata": {},
   "source": [
    "As the goal of this analysis is to predict the popularity of a track, we removed outliers to prevent extreme abnormalities from skewing our results. \n",
    "\n",
    "Outliers were detected by removing values that were further than 3 standard deviations from the mean"
   ]
  },
  {
   "cell_type": "code",
   "execution_count": 3,
   "metadata": {},
   "outputs": [
    {
     "name": "stdout",
     "output_type": "stream",
     "text": [
      "Removed 606 outliers\n"
     ]
    }
   ],
   "source": [
    "#detecting outliers \n",
    "\n",
    "from scipy import stats\n",
    "\n",
    "\n",
    "#turning duration_ms into a float\n",
    "df['duration_ms'] = df['duration_ms'].astype(float)\n",
    "\n",
    "#only numeric variables to detect outliers\n",
    "df1 = df.drop(['track','artist','uri'], axis=1)\n",
    "\n",
    "#For each column, first it computes the Z-score of each value in the column, \n",
    "#relative to the column mean and standard deviation.\n",
    "\n",
    "#Then it takes the absolute of Z-score because the direction does not matter,\n",
    "#only if it is below the threshold.\n",
    "\n",
    "#all(axis=1) ensures that for each row, all column satisfy the constraint.\n",
    "#Finally, result of this condition is used to index the dataframe.\n",
    "\n",
    "df1 = df1[(np.abs(stats.zscore(df1)) < 3).all(axis=1)]\n",
    "\n",
    "#comparing lengths\n",
    "print(\"Removed\",len(df) - len(df1),\"outliers\")"
   ]
  },
  {
   "cell_type": "code",
   "execution_count": 4,
   "metadata": {},
   "outputs": [],
   "source": [
    "#saving dataframe without outliers\n",
    "df1.to_csv('No_Outliers_Spotify.csv')"
   ]
  },
  {
   "cell_type": "code",
   "execution_count": null,
   "metadata": {},
   "outputs": [],
   "source": []
  }
 ],
 "metadata": {
  "kernelspec": {
   "display_name": "Python 3",
   "language": "python",
   "name": "python3"
  },
  "language_info": {
   "codemirror_mode": {
    "name": "ipython",
    "version": 3
   },
   "file_extension": ".py",
   "mimetype": "text/x-python",
   "name": "python",
   "nbconvert_exporter": "python",
   "pygments_lexer": "ipython3",
   "version": "3.7.6"
  }
 },
 "nbformat": 4,
 "nbformat_minor": 4
}
