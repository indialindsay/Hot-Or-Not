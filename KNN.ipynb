{
 "cells": [
  {
   "cell_type": "code",
   "execution_count": 21,
   "metadata": {},
   "outputs": [
    {
     "name": "stdout",
     "output_type": "stream",
     "text": [
      "Populating the interactive namespace from numpy and matplotlib\n"
     ]
    }
   ],
   "source": [
    "from pandas import Series, DataFrame\n",
    "import numpy as np\n",
    "import pandas as pd\n",
    "import matplotlib.pyplot as plt\n",
    "%pylab inline\n",
    "\n",
    "random.seed(123)\n",
    "\n",
    "#using dataset without outliers\n",
    "df = pd.read_csv('No_Outliers_Spotify.csv')"
   ]
  },
  {
   "cell_type": "markdown",
   "metadata": {},
   "source": [
    "__Stepwise regression selected the same influential variables for all options (see file stepwise.R):__\n",
    "\n",
    "instrumentalness + danceability + loudness + energy + acousticness + mode + time_signature\n"
   ]
  },
  {
   "cell_type": "markdown",
   "metadata": {},
   "source": [
    "__Applying KNN__ \n",
    "\n",
    "To understand the optimal number of neighbors to use when predicting the popularity of a song, the below function plots the accuracy of the classifier using 10-fold cross validation for varying numbers of neighbors"
   ]
  },
  {
   "cell_type": "code",
   "execution_count": 22,
   "metadata": {},
   "outputs": [],
   "source": [
    "from sklearn.model_selection import cross_val_score, StratifiedKFold\n",
    "from sklearn import neighbors\n",
    "from sklearn.model_selection import train_test_split\n",
    "from patsy import dmatrices\n",
    "\n",
    "\n",
    "def knn_cv(X_train,y_train):\n",
    "    nn = [1] + [(x + 1) * 5 for x in range(19)]\n",
    "    kfold = StratifiedKFold(n_splits=10, shuffle=True) #set up kfold\n",
    "    score = [] #empty list to contain score \n",
    "    for num_neighbors in nn: # Iterate over num_neighbors\n",
    "        formodel = neighbors.KNeighborsClassifier(n_neighbors=num_neighbors, weights='uniform') #classifier\n",
    "        scores = cross_val_score(formodel, X_train, y_train, cv=kfold)\n",
    "        score.append(scores.mean())\n",
    "    plot(nn, score)\n",
    "    xlabel('Number of nearest neighbors')\n",
    "    labels = 'Accuracy of classifier'\n",
    "    ylabel(labels)\n",
    "    plt.savefig('knn.jpg',bbox_inches='tight')\n",
    "    indexbestk = score.index(max(score))\n",
    "    print(\"Best K:\", nn[indexbestk])"
   ]
  },
  {
   "cell_type": "markdown",
   "metadata": {},
   "source": [
    "I first split data into training (70%) and test (30%)"
   ]
  },
  {
   "cell_type": "code",
   "execution_count": 23,
   "metadata": {},
   "outputs": [],
   "source": [
    "Y, X = dmatrices('target ~ 0 + instrumentalness + danceability + loudness + energy + acousticness + C(mode) + time_signature',\n",
    "                 df,return_type=\"dataframe\")\n",
    "y = Y['target'].values\n",
    "\n",
    "X_trainF, X_testF, y_trainF, y_testF = train_test_split(X, y, test_size=0.3, random_state=1)"
   ]
  },
  {
   "cell_type": "markdown",
   "metadata": {},
   "source": [
    "Next, I apply the above function to identify the optimal number of neighbors"
   ]
  },
  {
   "cell_type": "code",
   "execution_count": 24,
   "metadata": {},
   "outputs": [
    {
     "name": "stdout",
     "output_type": "stream",
     "text": [
      "Best K: 20\n"
     ]
    },
    {
     "data": {
      "image/png": "[encoded data removed]",
      "text/plain": [
       "<Figure size 432x288 with 1 Axes>"
      ]
     },
     "metadata": {
      "needs_background": "light"
     },
     "output_type": "display_data"
    }
   ],
   "source": [
    "knn_cv(X_trainF,y_trainF)"
   ]
  },
  {
   "cell_type": "markdown",
   "metadata": {},
   "source": [
    "The ideal K is:  20"
   ]
  },
  {
   "cell_type": "markdown",
   "metadata": {},
   "source": [
    "Now running to finalize model:"
   ]
  },
  {
   "cell_type": "code",
   "execution_count": 25,
   "metadata": {},
   "outputs": [],
   "source": [
    "model = neighbors.KNeighborsClassifier(n_neighbors=20,\n",
    "                                       weights='uniform',\n",
    "                                       p=2)"
   ]
  },
  {
   "cell_type": "code",
   "execution_count": 26,
   "metadata": {},
   "outputs": [
    {
     "data": {
      "text/plain": [
       "KNeighborsClassifier(algorithm='auto', leaf_size=30, metric='minkowski',\n",
       "                     metric_params=None, n_jobs=None, n_neighbors=20, p=2,\n",
       "                     weights='uniform')"
      ]
     },
     "execution_count": 26,
     "metadata": {},
     "output_type": "execute_result"
    }
   ],
   "source": [
    "model.fit(X_trainF, y_trainF)"
   ]
  },
  {
   "cell_type": "code",
   "execution_count": 27,
   "metadata": {},
   "outputs": [
    {
     "name": "stdout",
     "output_type": "stream",
     "text": [
      "Our model achieved a train accuracy score of:  80.84644601193706\n",
      "Our model achieved a test accuracy score of:  80.12658227848102\n"
     ]
    }
   ],
   "source": [
    "model.fit(X_trainF, y_trainF)\n",
    "from sklearn import metrics\n",
    "prediction_on_training = model.predict(X_trainF)\n",
    "print(\"Our model achieved a train accuracy score of: \", (metrics.accuracy_score(y_trainF, prediction_on_training)*100))\n",
    "\n",
    "predicted_classes = model.predict(X_testF)\n",
    "print(\"Our model achieved a test accuracy score of: \", (metrics.accuracy_score(y_testF, predicted_classes))*100)"
   ]
  },
  {
   "cell_type": "markdown",
   "metadata": {},
   "source": [
    "Our model had about 80% accuracy on both the train and test data sets. "
   ]
  },
  {
   "cell_type": "markdown",
   "metadata": {},
   "source": [
    "__Comparing above model using variables selected by stepwise to a model using all variables__"
   ]
  },
  {
   "cell_type": "code",
   "execution_count": 28,
   "metadata": {},
   "outputs": [],
   "source": [
    "#creating a list of all the variables\n",
    "var = list(df.columns.values) \n",
    "var = var[1:-1]\n",
    "formula = 'target ~ 0 + ' + \" + \".join(var)\n"
   ]
  },
  {
   "cell_type": "code",
   "execution_count": 30,
   "metadata": {},
   "outputs": [],
   "source": [
    "Y, X = dmatrices(formula,\n",
    "                 df,return_type=\"dataframe\")\n",
    "y = Y['target'].values\n",
    "\n",
    "#train test splits\n",
    "X_train, X_test, y_train, y_test = train_test_split(X, y, test_size=0.3, random_state=1)"
   ]
  },
  {
   "cell_type": "code",
   "execution_count": 31,
   "metadata": {},
   "outputs": [
    {
     "name": "stdout",
     "output_type": "stream",
     "text": [
      "Best K: 55\n"
     ]
    },
    {
     "data": {
      "image/png": "[encoded data removed]",
      "text/plain": [
       "<Figure size 432x288 with 1 Axes>"
      ]
     },
     "metadata": {
      "needs_background": "light"
     },
     "output_type": "display_data"
    }
   ],
   "source": [
    "knn_cv(X_train,y_train)"
   ]
  },
  {
   "cell_type": "code",
   "execution_count": 32,
   "metadata": {},
   "outputs": [],
   "source": [
    "model = neighbors.KNeighborsClassifier(n_neighbors=55,\n",
    "                                       weights='uniform',p=2)"
   ]
  },
  {
   "cell_type": "code",
   "execution_count": 34,
   "metadata": {},
   "outputs": [
    {
     "name": "stdout",
     "output_type": "stream",
     "text": [
      "Our model achieved a train accuracy score of:  69.04503526858383\n",
      "Our model achieved a test accuracy score of:  69.68354430379748\n"
     ]
    }
   ],
   "source": [
    "model.fit(X_train, y_train)\n",
    "\n",
    "prediction_on_training = model.predict(X_train)\n",
    "\n",
    "predicted_classes = model.predict(X_test)\n",
    "\n",
    "print(\"Our model achieved a train accuracy score of: \", (metrics.accuracy_score(y_train, prediction_on_training)*100))\n",
    "\n",
    "print(\"Our model achieved a test accuracy score of: \", (metrics.accuracy_score(y_testF, predicted_classes))*100)"
   ]
  },
  {
   "cell_type": "markdown",
   "metadata": {},
   "source": [
    "Overall, the model using variables selected by stepwise performed significantly better. "
   ]
  },
  {
   "cell_type": "code",
   "execution_count": null,
   "metadata": {},
   "outputs": [],
   "source": []
  }
 ],
 "metadata": {
  "kernelspec": {
   "display_name": "Python 3",
   "language": "python",
   "name": "python3"
  },
  "language_info": {
   "codemirror_mode": {
    "name": "ipython",
    "version": 3
   },
   "file_extension": ".py",
   "mimetype": "text/x-python",
   "name": "python",
   "nbconvert_exporter": "python",
   "pygments_lexer": "ipython3",
   "version": "3.7.6"
  }
 },
 "nbformat": 4,
 "nbformat_minor": 4
}
